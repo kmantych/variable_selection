{
 "cells": [
  {
   "cell_type": "code",
   "execution_count": 45,
   "metadata": {},
   "outputs": [],
   "source": [
    "import statsmodels.api as sm\n",
    "import pandas as pd\n",
    "import numpy as np\n",
    "import math\n",
    "import scipy.stats\n",
    "import bisect"
   ]
  },
  {
   "cell_type": "code",
   "execution_count": 61,
   "metadata": {},
   "outputs": [],
   "source": [
    "#This is the primary function. It takes Y and X just like sm.OLS(Y,X), however I added alpha\n",
    "#because the user may want to specify the level of confidence for calculating the critical t-value\n",
    "\n",
    "#I assume that Y and X are np arrays\n",
    "#alpha is the confidence level. Other softwares use alpha = 0.25\n",
    "def forward_section(Y, X, alpha):\n",
    "    \n",
    "    n = np.shape(X)[0] #number of observations\n",
    "    k = np.shape(X)[1] #number of regressors\n",
    "    \n",
    "    #check if the data includes a constant\n",
    "    includes_constant = np.array_equiv(X[:,0],np.ones(n))\n",
    "    \n",
    "    #initializes the corrolation coefficient matrix\n",
    "    corr_coeffs = np.corrcoef(X[:, range(includes_constant, k)].T, Y.T)\n",
    "    \n",
    "    #keeps track of the remaining regressors\n",
    "    remaining_regressors = list(range(includes_constant, k))\n",
    "    \n",
    "    # a list to store the included regressors\n",
    "    included_regressors = []\n",
    "    \n",
    "    #get the position and value of the largest correlation coefficient\n",
    "    pos, r = get_max_corr(corr_coeffs)\n",
    "    \n",
    "    #calculate the t-statistic\n",
    "    t = t_stat(r, n)\n",
    "    \n",
    "    #calculate the critical value to determine if a regressor should be included\n",
    "    t_critical = abs(scipy.stats.t.ppf(q=alpha/2,df=n - 1)) \n",
    "    \n",
    "    while len(remaining_regressors) > 0 and t > t_critical:\n",
    "        \n",
    "        #there is possibly a miscalculation with t. My generated values were close \n",
    "        #to what the textbook had. I am not sure if it is a truncation error OR if \n",
    "        #I am not calculating subsequent correlation matrices correctly. \n",
    "        #print(t)\n",
    "        \n",
    "        #keep the regressors in sorted order, because otherwise the model will incorrectly label\n",
    "        #the regressors\n",
    "        bisect.insort(included_regressors, remaining_regressors[pos])\n",
    "       \n",
    "        #delete the regressor, so that we can keep track of their index in corr_coeffs\n",
    "        del remaining_regressors[pos]\n",
    "        \n",
    "        #compute the next corr matrix\n",
    "        corr_coeffs = compute_next_corr_matrix(corr_coeffs, pos)\n",
    "        \n",
    "        #get the position and value of the largest correlation coefficient\n",
    "        pos, r = get_max_corr(corr_coeffs)\n",
    "        \n",
    "        #calculate the t-statistic\n",
    "        t = t_stat(r, n)\n",
    "        \n",
    "        #calculate the critical value to determine if a regressor should be included\n",
    "        t_critical = abs(scipy.stats.t.ppf(q=alpha/2,df=n - len(included_regressors) - 1))\n",
    "    \n",
    "    #include the constant in the model if it exists\n",
    "    if includes_constant == True:\n",
    "        bisect.insort(included_regressors, 0)\n",
    "    \n",
    "    #return a OLS model    \n",
    "    return sm.OLS(Y, X[:, included_regressors])\n",
    "    "
   ]
  },
  {
   "cell_type": "code",
   "execution_count": 62,
   "metadata": {},
   "outputs": [],
   "source": [
    "#calculates the t_stat using the precalculated r for optimization\n",
    "#Unfortunatly, I do not think this method is accurate after several iterations of calculating\n",
    "#the corr_coeffs matrix\n",
    "\n",
    "def t_stat(r, n):\n",
    "    return abs(r * math.sqrt((n-2) / (1-r*r)))"
   ]
  },
  {
   "cell_type": "code",
   "execution_count": 31,
   "metadata": {},
   "outputs": [],
   "source": [
    "#We need a special function to get the max correlation, because the row will contain 1 at the \n",
    "#end, which will always be the max. There is prob a better way to do this\n",
    "def get_max_corr(corr_matrix):\n",
    "    max_corr = 0;\n",
    "    max_corr_pos = -1;\n",
    "    for i in range (0, np.shape(corr_matrix)[1] - 1): #get the number of cols, -1 because the last element will be 1 and will be the max \n",
    "        if abs(corr_matrix[np.shape(corr_matrix)[1] - 1][i]) > max_corr:\n",
    "            max_corr = abs(corr_matrix[np.shape(corr_matrix)[1] - 1][i])\n",
    "            max_corr_pos = i\n",
    "    return max_corr_pos, max_corr"
   ]
  },
  {
   "cell_type": "code",
   "execution_count": 63,
   "metadata": {},
   "outputs": [],
   "source": [
    "#since there is a truncation error or a calculation error, a formal proof is likely needed\n",
    "# to show that this function is indeed calculating the correct r values\n",
    "\n",
    "# k is the correlation matrix, x is the position of the regressor that was \n",
    "#already added to the model\n",
    "\n",
    "def compute_next_corr_matrix(corr, x): \n",
    "    \n",
    "    #a) delete the column with the given element\n",
    "    corr = np.delete(corr, x, axis=1)\n",
    "    \n",
    "    #b) save the row with the given element\n",
    "    g = np.array(corr[x])\n",
    "    g = g.reshape(np.shape(corr)[1], 1)\n",
    "    \n",
    "    #c) delete the row with the given element\n",
    "    corr = np.delete(corr, x, axis=0)\n",
    "    \n",
    "    #d) Matrix multiply the row from part b\n",
    "    g2 = g @ g.T #4 X 4 matrix now\n",
    "    \n",
    "    #e) subtract the matrices\n",
    "    numerator = corr - g2\n",
    "    \n",
    "    #f)calculate the b^2 so it is a \n",
    "    denom = np.sqrt((1 - np.square(g)) @ (1 - np.square(g)).T)\n",
    "    return numerator / denom"
   ]
  },
  {
   "cell_type": "code",
   "execution_count": 64,
   "metadata": {},
   "outputs": [],
   "source": [
    "df  = pd.read_excel('Test_Data.xlsx', sheet_name='Test_data')\n",
    "df_n = df.to_numpy()\n",
    "X = df_n[:, 1:(df_n.shape[1])]\n",
    "Y = df_n[:, [0]]\n",
    "#add a column of 1's to the front to account for the constant\n",
    "X = sm.add_constant(X)\n"
   ]
  },
  {
   "cell_type": "code",
   "execution_count": 65,
   "metadata": {},
   "outputs": [
    {
     "name": "stdout",
     "output_type": "stream",
     "text": [
      "                            OLS Regression Results                            \n",
      "==============================================================================\n",
      "Dep. Variable:                      y   R-squared:                       0.982\n",
      "Model:                            OLS   Adj. R-squared:                  0.976\n",
      "Method:                 Least Squares   F-statistic:                     166.8\n",
      "Date:                Thu, 04 Nov 2021   Prob (F-statistic):           3.32e-08\n",
      "Time:                        14:48:01   Log-Likelihood:                -26.933\n",
      "No. Observations:                  13   AIC:                             61.87\n",
      "Df Residuals:                       9   BIC:                             64.13\n",
      "Df Model:                           3                                         \n",
      "Covariance Type:            nonrobust                                         \n",
      "==============================================================================\n",
      "                 coef    std err          t      P>|t|      [0.025      0.975]\n",
      "------------------------------------------------------------------------------\n",
      "const         71.6483     14.142      5.066      0.001      39.656     103.641\n",
      "x1             1.4519      0.117     12.410      0.000       1.187       1.717\n",
      "x2             0.4161      0.186      2.242      0.052      -0.004       0.836\n",
      "x3            -0.2365      0.173     -1.365      0.205      -0.629       0.155\n",
      "==============================================================================\n",
      "Omnibus:                        0.211   Durbin-Watson:                   2.011\n",
      "Prob(Omnibus):                  0.900   Jarque-Bera (JB):                0.378\n",
      "Skew:                           0.202   Prob(JB):                        0.828\n",
      "Kurtosis:                       2.270   Cond. No.                     1.27e+03\n",
      "==============================================================================\n",
      "\n",
      "Warnings:\n",
      "[1] Standard Errors assume that the covariance matrix of the errors is correctly specified.\n",
      "[2] The condition number is large, 1.27e+03. This might indicate that there are\n",
      "strong multicollinearity or other numerical problems.\n"
     ]
    }
   ],
   "source": [
    "my_model = forward_section(Y, X, 0.25)\n",
    "res = my_model.fit()\n",
    "print(res.summary())"
   ]
  },
  {
   "cell_type": "code",
   "execution_count": 118,
   "metadata": {},
   "outputs": [],
   "source": [
    "#this function returns the partial correlation of x2 to y, given that x1 is included in the model\n",
    "#we dont need y, becase we are assuming that is what we want to find the correlation for\n",
    "#x1 should be the row / col number of the regresssor that is already included in the model.\n",
    "#x2 is the regressor we need to find out the partial correlation for\n",
    "#cm is the correlation matrix\n",
    "#function jsut for basic testing\n",
    "def partial_r(y, x1, x2, cm):\n",
    "    return (cm[y][x2] - cm[y][x1]*cm[x1][x2]) / (math.sqrt((1-cm[y][x1]*cm[y][x1])*(1-cm[x1][x2]*cm[x1][x2])))"
   ]
  }
 ],
 "metadata": {
  "kernelspec": {
   "display_name": "Python 3",
   "language": "python",
   "name": "python3"
  },
  "language_info": {
   "codemirror_mode": {
    "name": "ipython",
    "version": 3
   },
   "file_extension": ".py",
   "mimetype": "text/x-python",
   "name": "python",
   "nbconvert_exporter": "python",
   "pygments_lexer": "ipython3",
   "version": "3.8.3"
  }
 },
 "nbformat": 4,
 "nbformat_minor": 4
}
