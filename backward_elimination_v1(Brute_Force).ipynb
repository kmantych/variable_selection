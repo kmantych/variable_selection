{
 "cells": [
  {
   "cell_type": "code",
   "execution_count": 11,
   "metadata": {},
   "outputs": [],
   "source": [
    "import statsmodels.api as sm\n",
    "import pandas as pd\n",
    "import numpy as np"
   ]
  },
  {
   "cell_type": "code",
   "execution_count": 12,
   "metadata": {},
   "outputs": [],
   "source": [
    "#this version will delete const if it is not statistically significant\n",
    "def backward_elimination_v1_1(Y, X, alpha):\n",
    "    current_results = sm.OLS(Y,X).fit()\n",
    "    remaining_regressors=list(range(np.shape(X)[1]))\n",
    "    while len(remaining_regressors) > 0:\n",
    "        max_pvalue_pos = np.argmax(current_results.pvalues)\n",
    "        if current_results.pvalues[max_pvalue_pos] > alpha:\n",
    "            #delete it from remaining_regressors\n",
    "            X = np.delete(X, max_pvalue_pos, 1)\n",
    "            current_results = sm.OLS(Y,X).fit()\n",
    "            remaining_regressors.pop(max_pvalue_pos)\n",
    "        else:\n",
    "            return remaining_regressors, current_results\n",
    "    \n",
    "    return remaining_regressors, current_results\n",
    "    "
   ]
  },
  {
   "cell_type": "code",
   "execution_count": 13,
   "metadata": {},
   "outputs": [],
   "source": [
    "#this version requires that const stays in the model\n",
    "def backward_elimination_v1_2(Y, X, alpha):\n",
    "    current_results = sm.OLS(Y,X).fit()\n",
    "    remaining_regressors=list(range(np.shape(X)[1]))\n",
    "    while len(remaining_regressors) > 0:\n",
    "        pvals = current_results.pvalues\n",
    "        pvals = np.delete(pvals,0)\n",
    "        max_pvalue_pos = np.argmax(pvals) + 1\n",
    "        if max_pvalue_pos == 0:\n",
    "            print('error, should never be pos 0')\n",
    "        if current_results.pvalues[max_pvalue_pos] > alpha:\n",
    "            #delete it from remaining_regressors\n",
    "            X = np.delete(X, max_pvalue_pos, 1)\n",
    "            current_results = sm.OLS(Y,X).fit()\n",
    "            remaining_regressors.pop(max_pvalue_pos)\n",
    "        else:\n",
    "            return remaining_regressors, current_results\n",
    "        \n",
    "    return remaining_regressors, current_results\n",
    "    "
   ]
  },
  {
   "cell_type": "code",
   "execution_count": 7,
   "metadata": {},
   "outputs": [],
   "source": [
    "df  = pd.read_excel('NFL_data.xlsx', sheet_name = \"Data\")\n",
    "df_n = df.to_numpy()\n",
    "X = df_n[:, 1:(df_n.shape[1])]\n",
    "Y = df_n[:, [0]]\n",
    "#add a column of 1's to the front to account for the constant\n",
    "X = sm.add_constant(X)"
   ]
  },
  {
   "cell_type": "code",
   "execution_count": 15,
   "metadata": {},
   "outputs": [],
   "source": [
    "rem_reg, results_with_const = backward_elimination_v1_2(Y, X, 0.1)\n",
    "rem_reg, results_without_const = backward_elimination_v1_1(Y, X, 0.1)"
   ]
  },
  {
   "cell_type": "code",
   "execution_count": 16,
   "metadata": {},
   "outputs": [
    {
     "name": "stdout",
     "output_type": "stream",
     "text": [
      "                                 OLS Regression Results                                \n",
      "=======================================================================================\n",
      "Dep. Variable:                      y   R-squared (uncentered):                   0.958\n",
      "Model:                            OLS   Adj. R-squared (uncentered):              0.953\n",
      "Method:                 Least Squares   F-statistic:                              192.2\n",
      "Date:                Fri, 07 Jan 2022   Prob (F-statistic):                    2.18e-17\n",
      "Time:                        18:42:26   Log-Likelihood:                         -52.563\n",
      "No. Observations:                  28   AIC:                                      111.1\n",
      "Df Residuals:                      25   BIC:                                      115.1\n",
      "Df Model:                           3                                                  \n",
      "Covariance Type:            nonrobust                                                  \n",
      "==============================================================================\n",
      "                 coef    std err          t      P>|t|      [0.025      0.975]\n",
      "------------------------------------------------------------------------------\n",
      "x1             0.0035      0.001      5.899      0.000       0.002       0.005\n",
      "x2             0.1748      0.027      6.545      0.000       0.120       0.230\n",
      "x3            -0.0051      0.001     -7.695      0.000      -0.006      -0.004\n",
      "==============================================================================\n",
      "Omnibus:                        0.850   Durbin-Watson:                   1.470\n",
      "Prob(Omnibus):                  0.654   Jarque-Bera (JB):                0.711\n",
      "Skew:                           0.365   Prob(JB):                        0.701\n",
      "Kurtosis:                       2.721   Cond. No.                         255.\n",
      "==============================================================================\n",
      "\n",
      "Warnings:\n",
      "[1] Standard Errors assume that the covariance matrix of the errors is correctly specified.\n"
     ]
    }
   ],
   "source": [
    "print(results_without_const.summary())"
   ]
  },
  {
   "cell_type": "code",
   "execution_count": 17,
   "metadata": {},
   "outputs": [
    {
     "name": "stdout",
     "output_type": "stream",
     "text": [
      "                            OLS Regression Results                            \n",
      "==============================================================================\n",
      "Dep. Variable:                      y   R-squared:                       0.786\n",
      "Model:                            OLS   Adj. R-squared:                  0.760\n",
      "Method:                 Least Squares   F-statistic:                     29.44\n",
      "Date:                Fri, 07 Jan 2022   Prob (F-statistic):           3.27e-08\n",
      "Time:                        18:42:39   Log-Likelihood:                -52.532\n",
      "No. Observations:                  28   AIC:                             113.1\n",
      "Df Residuals:                      24   BIC:                             118.4\n",
      "Df Model:                           3                                         \n",
      "Covariance Type:            nonrobust                                         \n",
      "==============================================================================\n",
      "                 coef    std err          t      P>|t|      [0.025      0.975]\n",
      "------------------------------------------------------------------------------\n",
      "const         -1.8084      7.901     -0.229      0.821     -18.115      14.498\n",
      "x1             0.0036      0.001      5.177      0.000       0.002       0.005\n",
      "x2             0.1940      0.088      2.198      0.038       0.012       0.376\n",
      "x3            -0.0048      0.001     -3.771      0.001      -0.007      -0.002\n",
      "==============================================================================\n",
      "Omnibus:                        0.665   Durbin-Watson:                   1.492\n",
      "Prob(Omnibus):                  0.717   Jarque-Bera (JB):                0.578\n",
      "Skew:                           0.321   Prob(JB):                        0.749\n",
      "Kurtosis:                       2.712   Cond. No.                     7.42e+04\n",
      "==============================================================================\n",
      "\n",
      "Warnings:\n",
      "[1] Standard Errors assume that the covariance matrix of the errors is correctly specified.\n",
      "[2] The condition number is large, 7.42e+04. This might indicate that there are\n",
      "strong multicollinearity or other numerical problems.\n"
     ]
    }
   ],
   "source": [
    "print(results_with_const.summary())"
   ]
  },
  {
   "cell_type": "code",
   "execution_count": null,
   "metadata": {},
   "outputs": [],
   "source": []
  }
 ],
 "metadata": {
  "kernelspec": {
   "display_name": "Python 3",
   "language": "python",
   "name": "python3"
  },
  "language_info": {
   "codemirror_mode": {
    "name": "ipython",
    "version": 3
   },
   "file_extension": ".py",
   "mimetype": "text/x-python",
   "name": "python",
   "nbconvert_exporter": "python",
   "pygments_lexer": "ipython3",
   "version": "3.8.3"
  }
 },
 "nbformat": 4,
 "nbformat_minor": 4
}
